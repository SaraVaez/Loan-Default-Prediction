{
 "cells": [
  {
   "cell_type": "code",
   "execution_count": null,
   "metadata": {},
   "outputs": [],
   "source": [
    "import pandas as pd\n",
    "import numpy as np\n",
    "import matplotlib.pyplot as plt\n",
    "import seaborn as sns"
   ]
  },
  {
   "cell_type": "code",
   "execution_count": 12,
   "metadata": {},
   "outputs": [
    {
     "data": {
      "text/html": [
       "<div>\n",
       "<style scoped>\n",
       "    .dataframe tbody tr th:only-of-type {\n",
       "        vertical-align: middle;\n",
       "    }\n",
       "\n",
       "    .dataframe tbody tr th {\n",
       "        vertical-align: top;\n",
       "    }\n",
       "\n",
       "    .dataframe thead th {\n",
       "        text-align: right;\n",
       "    }\n",
       "</style>\n",
       "<table border=\"1\" class=\"dataframe\">\n",
       "  <thead>\n",
       "    <tr style=\"text-align: right;\">\n",
       "      <th></th>\n",
       "      <th>LoanID</th>\n",
       "      <th>Age</th>\n",
       "      <th>Income</th>\n",
       "      <th>LoanAmount</th>\n",
       "      <th>CreditScore</th>\n",
       "      <th>MonthsEmployed</th>\n",
       "      <th>NumCreditLines</th>\n",
       "      <th>InterestRate</th>\n",
       "      <th>LoanTerm</th>\n",
       "      <th>DTIRatio</th>\n",
       "      <th>Education</th>\n",
       "      <th>EmploymentType</th>\n",
       "      <th>MaritalStatus</th>\n",
       "      <th>HasMortgage</th>\n",
       "      <th>HasDependents</th>\n",
       "      <th>LoanPurpose</th>\n",
       "      <th>HasCoSigner</th>\n",
       "      <th>Default</th>\n",
       "    </tr>\n",
       "  </thead>\n",
       "  <tbody>\n",
       "    <tr>\n",
       "      <th>0</th>\n",
       "      <td>I38PQUQS96</td>\n",
       "      <td>56</td>\n",
       "      <td>85994</td>\n",
       "      <td>50587</td>\n",
       "      <td>520</td>\n",
       "      <td>80</td>\n",
       "      <td>4</td>\n",
       "      <td>15.23</td>\n",
       "      <td>36</td>\n",
       "      <td>0.44</td>\n",
       "      <td>Bachelor's</td>\n",
       "      <td>Full-time</td>\n",
       "      <td>Divorced</td>\n",
       "      <td>Yes</td>\n",
       "      <td>Yes</td>\n",
       "      <td>Other</td>\n",
       "      <td>Yes</td>\n",
       "      <td>0</td>\n",
       "    </tr>\n",
       "    <tr>\n",
       "      <th>1</th>\n",
       "      <td>HPSK72WA7R</td>\n",
       "      <td>69</td>\n",
       "      <td>50432</td>\n",
       "      <td>124440</td>\n",
       "      <td>458</td>\n",
       "      <td>15</td>\n",
       "      <td>1</td>\n",
       "      <td>4.81</td>\n",
       "      <td>60</td>\n",
       "      <td>0.68</td>\n",
       "      <td>Master's</td>\n",
       "      <td>Full-time</td>\n",
       "      <td>Married</td>\n",
       "      <td>No</td>\n",
       "      <td>No</td>\n",
       "      <td>Other</td>\n",
       "      <td>Yes</td>\n",
       "      <td>0</td>\n",
       "    </tr>\n",
       "    <tr>\n",
       "      <th>2</th>\n",
       "      <td>C1OZ6DPJ8Y</td>\n",
       "      <td>46</td>\n",
       "      <td>84208</td>\n",
       "      <td>129188</td>\n",
       "      <td>451</td>\n",
       "      <td>26</td>\n",
       "      <td>3</td>\n",
       "      <td>21.17</td>\n",
       "      <td>24</td>\n",
       "      <td>0.31</td>\n",
       "      <td>Master's</td>\n",
       "      <td>Unemployed</td>\n",
       "      <td>Divorced</td>\n",
       "      <td>Yes</td>\n",
       "      <td>Yes</td>\n",
       "      <td>Auto</td>\n",
       "      <td>No</td>\n",
       "      <td>1</td>\n",
       "    </tr>\n",
       "    <tr>\n",
       "      <th>3</th>\n",
       "      <td>V2KKSFM3UN</td>\n",
       "      <td>32</td>\n",
       "      <td>31713</td>\n",
       "      <td>44799</td>\n",
       "      <td>743</td>\n",
       "      <td>0</td>\n",
       "      <td>3</td>\n",
       "      <td>7.07</td>\n",
       "      <td>24</td>\n",
       "      <td>0.23</td>\n",
       "      <td>High School</td>\n",
       "      <td>Full-time</td>\n",
       "      <td>Married</td>\n",
       "      <td>No</td>\n",
       "      <td>No</td>\n",
       "      <td>Business</td>\n",
       "      <td>No</td>\n",
       "      <td>0</td>\n",
       "    </tr>\n",
       "    <tr>\n",
       "      <th>4</th>\n",
       "      <td>EY08JDHTZP</td>\n",
       "      <td>60</td>\n",
       "      <td>20437</td>\n",
       "      <td>9139</td>\n",
       "      <td>633</td>\n",
       "      <td>8</td>\n",
       "      <td>4</td>\n",
       "      <td>6.51</td>\n",
       "      <td>48</td>\n",
       "      <td>0.73</td>\n",
       "      <td>Bachelor's</td>\n",
       "      <td>Unemployed</td>\n",
       "      <td>Divorced</td>\n",
       "      <td>No</td>\n",
       "      <td>Yes</td>\n",
       "      <td>Auto</td>\n",
       "      <td>No</td>\n",
       "      <td>0</td>\n",
       "    </tr>\n",
       "  </tbody>\n",
       "</table>\n",
       "</div>"
      ],
      "text/plain": [
       "       LoanID  Age  Income  LoanAmount  CreditScore  MonthsEmployed  \\\n",
       "0  I38PQUQS96   56   85994       50587          520              80   \n",
       "1  HPSK72WA7R   69   50432      124440          458              15   \n",
       "2  C1OZ6DPJ8Y   46   84208      129188          451              26   \n",
       "3  V2KKSFM3UN   32   31713       44799          743               0   \n",
       "4  EY08JDHTZP   60   20437        9139          633               8   \n",
       "\n",
       "   NumCreditLines  InterestRate  LoanTerm  DTIRatio    Education  \\\n",
       "0               4         15.23        36      0.44   Bachelor's   \n",
       "1               1          4.81        60      0.68     Master's   \n",
       "2               3         21.17        24      0.31     Master's   \n",
       "3               3          7.07        24      0.23  High School   \n",
       "4               4          6.51        48      0.73   Bachelor's   \n",
       "\n",
       "  EmploymentType MaritalStatus HasMortgage HasDependents LoanPurpose  \\\n",
       "0      Full-time      Divorced         Yes           Yes       Other   \n",
       "1      Full-time       Married          No            No       Other   \n",
       "2     Unemployed      Divorced         Yes           Yes        Auto   \n",
       "3      Full-time       Married          No            No    Business   \n",
       "4     Unemployed      Divorced          No           Yes        Auto   \n",
       "\n",
       "  HasCoSigner  Default  \n",
       "0         Yes        0  \n",
       "1         Yes        0  \n",
       "2          No        1  \n",
       "3          No        0  \n",
       "4          No        0  "
      ]
     },
     "execution_count": 12,
     "metadata": {},
     "output_type": "execute_result"
    }
   ],
   "source": [
    "df = pd.read_csv('Loan_default.csv')\n",
    "df.head()"
   ]
  },
  {
   "cell_type": "markdown",
   "metadata": {},
   "source": [
    "# Data Understanding and Cleaning"
   ]
  },
  {
   "cell_type": "code",
   "execution_count": 13,
   "metadata": {},
   "outputs": [
    {
     "name": "stdout",
     "output_type": "stream",
     "text": [
      "LoanID            0\n",
      "Age               0\n",
      "Income            0\n",
      "LoanAmount        0\n",
      "CreditScore       0\n",
      "MonthsEmployed    0\n",
      "NumCreditLines    0\n",
      "InterestRate      0\n",
      "LoanTerm          0\n",
      "DTIRatio          0\n",
      "Education         0\n",
      "EmploymentType    0\n",
      "MaritalStatus     0\n",
      "HasMortgage       0\n",
      "HasDependents     0\n",
      "LoanPurpose       0\n",
      "HasCoSigner       0\n",
      "Default           0\n",
      "dtype: int64\n"
     ]
    },
    {
     "name": "stderr",
     "output_type": "stream",
     "text": [
      "/home/sara/anaconda3/lib/python3.7/site-packages/ipykernel_launcher.py:7: FutureWarning: Dropping of nuisance columns in DataFrame reductions (with 'numeric_only=None') is deprecated; in a future version this will raise TypeError.  Select only valid columns before calling the reduction.\n",
      "  import sys\n"
     ]
    }
   ],
   "source": [
    "# 1) check for missing data\n",
    "\n",
    "print(df.isnull().sum())\n",
    "\n",
    "# drop rows or fill missing values\n",
    "\n",
    "df.fillna(df.mean(), inplace=True)"
   ]
  },
  {
   "cell_type": "markdown",
   "metadata": {},
   "source": [
    "Check the number of missing valus in each column. Fortunately, the dataset is complete and doesn't have any missing value, otherwise we requested to replace the missing cells with the average value of that column."
   ]
  },
  {
   "cell_type": "code",
   "execution_count": 14,
   "metadata": {},
   "outputs": [],
   "source": [
    "# 2) Identify duplicate rows\n",
    "\n",
    "df.drop_duplicates(inplace=True)"
   ]
  },
  {
   "cell_type": "code",
   "execution_count": 15,
   "metadata": {},
   "outputs": [
    {
     "data": {
      "image/png": "[encoded data removed]",
      "text/plain": [
       "<Figure size 576x432 with 1 Axes>"
      ]
     },
     "metadata": {
      "needs_background": "light"
     },
     "output_type": "display_data"
    }
   ],
   "source": [
    "# 3) Handle outliers using Boxplots\n",
    "\n",
    "# a boxplot for income distribution\n",
    "\n",
    "plt.figure(figsize=(8,6))\n",
    "sns.boxplot(x=df['Income'])\n",
    "plt.show()"
   ]
  },
  {
   "cell_type": "markdown",
   "metadata": {},
   "source": [
    "The goal of this code is to visually inspect the distribution of the \"Income\" column and identify any outliers. A boxplot summarizes the data by showing the median, quartiles, and potential outliers.This visual tool helps us quickly identify whether the \"Income\" column has extreme values that might impact your analysis or modeling. We consider \"Income\" data because Income is often a key variable in financial datasets. It typically has a wide range of values and may contain extreme values (outliers) that could skew the analysis. In this dataset we have no outliers in the Income column."
   ]
  },
  {
   "cell_type": "markdown",
   "metadata": {},
   "source": [
    "# Exploratory Data Analysis (EDA)"
   ]
  },
  {
   "cell_type": "code",
   "execution_count": 16,
   "metadata": {},
   "outputs": [
    {
     "name": "stdout",
     "output_type": "stream",
     "text": [
      "                 Age         Income     LoanAmount    CreditScore  \\\n",
      "count  255347.000000  255347.000000  255347.000000  255347.000000   \n",
      "mean       43.498306   82499.304597  127578.865512     574.264346   \n",
      "std        14.990258   38963.013729   70840.706142     158.903867   \n",
      "min        18.000000   15000.000000    5000.000000     300.000000   \n",
      "25%        31.000000   48825.500000   66156.000000     437.000000   \n",
      "50%        43.000000   82466.000000  127556.000000     574.000000   \n",
      "75%        56.000000  116219.000000  188985.000000     712.000000   \n",
      "max        69.000000  149999.000000  249999.000000     849.000000   \n",
      "\n",
      "       MonthsEmployed  NumCreditLines   InterestRate       LoanTerm  \\\n",
      "count   255347.000000   255347.000000  255347.000000  255347.000000   \n",
      "mean        59.541976        2.501036      13.492773      36.025894   \n",
      "std         34.643376        1.117018       6.636443      16.969330   \n",
      "min          0.000000        1.000000       2.000000      12.000000   \n",
      "25%         30.000000        2.000000       7.770000      24.000000   \n",
      "50%         60.000000        2.000000      13.460000      36.000000   \n",
      "75%         90.000000        3.000000      19.250000      48.000000   \n",
      "max        119.000000        4.000000      25.000000      60.000000   \n",
      "\n",
      "            DTIRatio        Default  \n",
      "count  255347.000000  255347.000000  \n",
      "mean        0.500212       0.116128  \n",
      "std         0.230917       0.320379  \n",
      "min         0.100000       0.000000  \n",
      "25%         0.300000       0.000000  \n",
      "50%         0.500000       0.000000  \n",
      "75%         0.700000       0.000000  \n",
      "max         0.900000       1.000000  \n"
     ]
    },
    {
     "data": {
      "image/png": "[encoded data removed]",
      "text/plain": [
       "<Figure size 432x288 with 1 Axes>"
      ]
     },
     "metadata": {
      "needs_background": "light"
     },
     "output_type": "display_data"
    }
   ],
   "source": [
    "# 1) Understanding the data distribution: Summary statistics\n",
    "\n",
    "print(df.describe())\n",
    "\n",
    "# count of default vs. non-default borrowers\n",
    "\n",
    "sns.countplot(x = 'Default', data=df)\n",
    "plt.title('Loan Default Destribution')\n",
    "plt.show()\n"
   ]
  },
  {
   "cell_type": "code",
   "execution_count": 7,
   "metadata": {},
   "outputs": [
    {
     "data": {
      "image/png": "[encoded data removed]",
      "text/plain": [
       "<Figure size 720x576 with 2 Axes>"
      ]
     },
     "metadata": {
      "needs_background": "light"
     },
     "output_type": "display_data"
    }
   ],
   "source": [
    "# 2) corrolation analysis using heatmap\n",
    "\n",
    "plt.figure(figsize=(10,8))\n",
    "sns.heatmap(df.corr(), annot=True, cmap='coolwarm')\n",
    "plt.show()"
   ]
  },
  {
   "cell_type": "markdown",
   "metadata": {},
   "source": [
    "This method computes the pairwise correlation coefficients for all numerical columns in the DataFrame. +1 indicates a perfect positive linear relationship. -1 indicates a perfect negative linear relationship. And 0 indicates no linear relationship."
   ]
  },
  {
   "cell_type": "markdown",
   "metadata": {},
   "source": [
    "```\n",
    "Based on the map, we can interpret that there is a weak negative correlation between Age and Defaul => old people are slightly less likely to default.\n",
    "Also, higher income slightly reduces default probability. Larger loans slightly increases the likelihood of default. higher interest rates slightly increase the likelihood of default.\n",
    "The highest correlation is between Interest Rate and Default (0.13), suggesting that higher interest rates slightly increase the likelihood of default.\n",
    "Overal, most correlations are very week, meaning thre aren't strong linear relationships between these variables => No single variable strongly predicts default, but income, age, and inteerst rate have small influences. \n",
    "Thus, it would be benefecial to use nonlinear modelling techniques to capture hidden relationships. 1) Train a ML Model like Random Forest or Logistic Regression. 2) Extract Feature Importances to see which factors influence default the most. \n",
    "```"
   ]
  },
  {
   "cell_type": "code",
   "execution_count": 8,
   "metadata": {},
   "outputs": [],
   "source": [
    "# 3) Feature Engineering => Creating New Features\n",
    "\n",
    "#creating LTI = Loan-to-Income ratio\n",
    "\n",
    "df['LTI'] = df['LoanAmount'] / df['Income']"
   ]
  },
  {
   "cell_type": "markdown",
   "metadata": {},
   "source": [
    "# Data Processing and Feature Selection"
   ]
  },
  {
   "cell_type": "code",
   "execution_count": 17,
   "metadata": {
    "scrolled": true
   },
   "outputs": [],
   "source": [
    "# 1) Convert categorical variables to Numeric. Because many ML models require numeric inputs\n",
    "\n",
    "df = pd.get_dummies(df, columns=['EmploymentType', 'LoanPurpose'], drop_first=True)"
   ]
  },
  {
   "cell_type": "markdown",
   "metadata": {},
   "source": [
    "In the above One-hot encoding we create separate columns. It has converted the categorical columns of \"EmploymentType\" and \"LoanPurpose\" into several new binary (0/1) columns. When we have too many unique values, this will cause memory issues.\n",
    "For large datasets, use Target Encoding, Hash Encoding, or Label Encoding instead. In this dataset, we have many categorical columns (object type), so we should use Target Encoding, Hash Encoding, or Label Encoding instead."
   ]
  },
  {
   "cell_type": "code",
   "execution_count": 18,
   "metadata": {},
   "outputs": [
    {
     "name": "stdout",
     "output_type": "stream",
     "text": [
      "Requirement already satisfied: category_encoders in ./anaconda3/lib/python3.7/site-packages (2.6.4)\n",
      "Requirement already satisfied: importlib-resources; python_version < \"3.9\" in ./anaconda3/lib/python3.7/site-packages (from category_encoders) (5.12.0)\n",
      "Requirement already satisfied: scikit-learn>=0.20.0 in ./anaconda3/lib/python3.7/site-packages (from category_encoders) (0.22.1)\n",
      "Requirement already satisfied: scipy>=1.0.0 in ./anaconda3/lib/python3.7/site-packages (from category_encoders) (1.4.1)\n",
      "Requirement already satisfied: statsmodels>=0.9.0 in ./anaconda3/lib/python3.7/site-packages (from category_encoders) (0.11.0)\n",
      "Requirement already satisfied: patsy>=0.5.1 in ./anaconda3/lib/python3.7/site-packages (from category_encoders) (0.5.1)\n",
      "Requirement already satisfied: numpy>=1.14.0 in ./anaconda3/lib/python3.7/site-packages (from category_encoders) (1.18.1)\n",
      "Requirement already satisfied: pandas>=1.0.5 in ./anaconda3/lib/python3.7/site-packages (from category_encoders) (1.3.5)\n",
      "Requirement already satisfied: zipp>=3.1.0; python_version < \"3.10\" in ./anaconda3/lib/python3.7/site-packages (from importlib-resources; python_version < \"3.9\"->category_encoders) (3.15.0)\n",
      "Requirement already satisfied: joblib>=0.11 in ./anaconda3/lib/python3.7/site-packages (from scikit-learn>=0.20.0->category_encoders) (0.14.1)\n",
      "Requirement already satisfied: six in ./anaconda3/lib/python3.7/site-packages (from patsy>=0.5.1->category_encoders) (1.14.0)\n",
      "Requirement already satisfied: python-dateutil>=2.7.3 in ./anaconda3/lib/python3.7/site-packages (from pandas>=1.0.5->category_encoders) (2.8.1)\n",
      "Requirement already satisfied: pytz>=2017.3 in ./anaconda3/lib/python3.7/site-packages (from pandas>=1.0.5->category_encoders) (2019.3)\n"
     ]
    }
   ],
   "source": [
    "# first, install category_encoders in your environment\n",
    "\n",
    "!pip install category_encoders"
   ]
  },
  {
   "cell_type": "markdown",
   "metadata": {},
   "source": [
    "Instead of creating multiple binary columns, target encoding replaces each category with a value computed from the target variable. For example, if a category \"Employed\" in 'EmploymentType' is associated with a 5% default rate, the category is replaced with 0.05. This code automatically identifies all object-type columns in X_train and applies the target encoder, then applies the same transformation to X_test.One-hot encoding can result in many new columns if a categorical variable has many unique values. Target encoding keeps the number of features the same as the original columns."
   ]
  },
  {
   "cell_type": "code",
   "execution_count": 21,
   "metadata": {},
   "outputs": [
    {
     "name": "stderr",
     "output_type": "stream",
     "text": [
      "/home/sara/anaconda3/lib/python3.7/site-packages/pandas/core/frame.py:3641: SettingWithCopyWarning: \n",
      "A value is trying to be set on a copy of a slice from a DataFrame.\n",
      "Try using .loc[row_indexer,col_indexer] = value instead\n",
      "\n",
      "See the caveats in the documentation: https://pandas.pydata.org/pandas-docs/stable/user_guide/indexing.html#returning-a-view-versus-a-copy\n",
      "  self[k1] = value[k2]\n"
     ]
    }
   ],
   "source": [
    "# Instead of one-hot encoding, replace categories with their mean target values. This is efficient and avoids memory issues.\n",
    "\n",
    "from category_encoders import TargetEncoder\n",
    "\n",
    "# Identify all categorical columns (object type)\n",
    "categorical_cols = X_train.select_dtypes(include=['object']).columns\n",
    "\n",
    "# Initialize Target Encoder\n",
    "encoder = TargetEncoder()\n",
    "\n",
    "# Apply Target Encoding\n",
    "X_train[categorical_cols] = encoder.fit_transform(X_train[categorical_cols], y_train)\n",
    "X_test[categorical_cols] = encoder.transform(X_test[categorical_cols])"
   ]
  },
  {
   "cell_type": "markdown",
   "metadata": {},
   "source": [
    "Many machine learning models, especially those that rely on distance-based calculations (e.g., Logistic Regression, KNN, SVM, Neural Networks), work better when the features are on a similar scale. Without scaling:\n",
    "\n",
    "A feature like Income (which could be in the range of thousands) would dominate over Credit Score (which is typically between 300-850).\n",
    "Models would put too much weight on large values, leading to biased predictions."
   ]
  },
  {
   "cell_type": "code",
   "execution_count": 22,
   "metadata": {},
   "outputs": [],
   "source": [
    "# 2) Scale numeric features:\n",
    "# standardize the dataset for better model performance. so they have zero mean and unit variance.\n",
    "# This helps machine learning models work more efficiently because features with large values won’t dominate the learning process.\n",
    "# After transformation: The mean of each column becomes 0 and the standard deviation becomes 1.\n",
    "\n",
    "\n",
    "from sklearn.preprocessing import StandardScaler\n",
    "\n",
    "scaler = StandardScaler()\n",
    "df[['Income', 'LoanAmount', 'CreditScore']] = scaler.fit_transform(df[['Income', 'LoanAmount', 'CreditScore']])"
   ]
  },
  {
   "cell_type": "code",
   "execution_count": 34,
   "metadata": {},
   "outputs": [
    {
     "ename": "KeyError",
     "evalue": "\"['LoanID'] not found in axis\"",
     "output_type": "error",
     "traceback": [
      "\u001b[0;31m---------------------------------------------------------------------------\u001b[0m",
      "\u001b[0;31mKeyError\u001b[0m                                  Traceback (most recent call last)",
      "\u001b[0;32m<ipython-input-34-7de63fa8f1a2>\u001b[0m in \u001b[0;36m<module>\u001b[0;34m\u001b[0m\n\u001b[0;32m----> 1\u001b[0;31m \u001b[0mdf\u001b[0m \u001b[0;34m=\u001b[0m \u001b[0mdf\u001b[0m\u001b[0;34m.\u001b[0m\u001b[0mdrop\u001b[0m\u001b[0;34m(\u001b[0m\u001b[0mcolumns\u001b[0m \u001b[0;34m=\u001b[0m \u001b[0;34m[\u001b[0m\u001b[0;34m'LoanID'\u001b[0m\u001b[0;34m]\u001b[0m\u001b[0;34m)\u001b[0m\u001b[0;34m\u001b[0m\u001b[0;34m\u001b[0m\u001b[0m\n\u001b[0m",
      "\u001b[0;32m~/anaconda3/lib/python3.7/site-packages/pandas/util/_decorators.py\u001b[0m in \u001b[0;36mwrapper\u001b[0;34m(*args, **kwargs)\u001b[0m\n\u001b[1;32m    309\u001b[0m                     \u001b[0mstacklevel\u001b[0m\u001b[0;34m=\u001b[0m\u001b[0mstacklevel\u001b[0m\u001b[0;34m,\u001b[0m\u001b[0;34m\u001b[0m\u001b[0;34m\u001b[0m\u001b[0m\n\u001b[1;32m    310\u001b[0m                 )\n\u001b[0;32m--> 311\u001b[0;31m             \u001b[0;32mreturn\u001b[0m \u001b[0mfunc\u001b[0m\u001b[0;34m(\u001b[0m\u001b[0;34m*\u001b[0m\u001b[0margs\u001b[0m\u001b[0;34m,\u001b[0m \u001b[0;34m**\u001b[0m\u001b[0mkwargs\u001b[0m\u001b[0;34m)\u001b[0m\u001b[0;34m\u001b[0m\u001b[0;34m\u001b[0m\u001b[0m\n\u001b[0m\u001b[1;32m    312\u001b[0m \u001b[0;34m\u001b[0m\u001b[0m\n\u001b[1;32m    313\u001b[0m         \u001b[0;32mreturn\u001b[0m \u001b[0mwrapper\u001b[0m\u001b[0;34m\u001b[0m\u001b[0;34m\u001b[0m\u001b[0m\n",
      "\u001b[0;32m~/anaconda3/lib/python3.7/site-packages/pandas/core/frame.py\u001b[0m in \u001b[0;36mdrop\u001b[0;34m(self, labels, axis, index, columns, level, inplace, errors)\u001b[0m\n\u001b[1;32m   4911\u001b[0m             \u001b[0mlevel\u001b[0m\u001b[0;34m=\u001b[0m\u001b[0mlevel\u001b[0m\u001b[0;34m,\u001b[0m\u001b[0;34m\u001b[0m\u001b[0;34m\u001b[0m\u001b[0m\n\u001b[1;32m   4912\u001b[0m             \u001b[0minplace\u001b[0m\u001b[0;34m=\u001b[0m\u001b[0minplace\u001b[0m\u001b[0;34m,\u001b[0m\u001b[0;34m\u001b[0m\u001b[0;34m\u001b[0m\u001b[0m\n\u001b[0;32m-> 4913\u001b[0;31m             \u001b[0merrors\u001b[0m\u001b[0;34m=\u001b[0m\u001b[0merrors\u001b[0m\u001b[0;34m,\u001b[0m\u001b[0;34m\u001b[0m\u001b[0;34m\u001b[0m\u001b[0m\n\u001b[0m\u001b[1;32m   4914\u001b[0m         )\n\u001b[1;32m   4915\u001b[0m \u001b[0;34m\u001b[0m\u001b[0m\n",
      "\u001b[0;32m~/anaconda3/lib/python3.7/site-packages/pandas/core/generic.py\u001b[0m in \u001b[0;36mdrop\u001b[0;34m(self, labels, axis, index, columns, level, inplace, errors)\u001b[0m\n\u001b[1;32m   4148\u001b[0m         \u001b[0;32mfor\u001b[0m \u001b[0maxis\u001b[0m\u001b[0;34m,\u001b[0m \u001b[0mlabels\u001b[0m \u001b[0;32min\u001b[0m \u001b[0maxes\u001b[0m\u001b[0;34m.\u001b[0m\u001b[0mitems\u001b[0m\u001b[0;34m(\u001b[0m\u001b[0;34m)\u001b[0m\u001b[0;34m:\u001b[0m\u001b[0;34m\u001b[0m\u001b[0;34m\u001b[0m\u001b[0m\n\u001b[1;32m   4149\u001b[0m             \u001b[0;32mif\u001b[0m \u001b[0mlabels\u001b[0m \u001b[0;32mis\u001b[0m \u001b[0;32mnot\u001b[0m \u001b[0;32mNone\u001b[0m\u001b[0;34m:\u001b[0m\u001b[0;34m\u001b[0m\u001b[0;34m\u001b[0m\u001b[0m\n\u001b[0;32m-> 4150\u001b[0;31m                 \u001b[0mobj\u001b[0m \u001b[0;34m=\u001b[0m \u001b[0mobj\u001b[0m\u001b[0;34m.\u001b[0m\u001b[0m_drop_axis\u001b[0m\u001b[0;34m(\u001b[0m\u001b[0mlabels\u001b[0m\u001b[0;34m,\u001b[0m \u001b[0maxis\u001b[0m\u001b[0;34m,\u001b[0m \u001b[0mlevel\u001b[0m\u001b[0;34m=\u001b[0m\u001b[0mlevel\u001b[0m\u001b[0;34m,\u001b[0m \u001b[0merrors\u001b[0m\u001b[0;34m=\u001b[0m\u001b[0merrors\u001b[0m\u001b[0;34m)\u001b[0m\u001b[0;34m\u001b[0m\u001b[0;34m\u001b[0m\u001b[0m\n\u001b[0m\u001b[1;32m   4151\u001b[0m \u001b[0;34m\u001b[0m\u001b[0m\n\u001b[1;32m   4152\u001b[0m         \u001b[0;32mif\u001b[0m \u001b[0minplace\u001b[0m\u001b[0;34m:\u001b[0m\u001b[0;34m\u001b[0m\u001b[0;34m\u001b[0m\u001b[0m\n",
      "\u001b[0;32m~/anaconda3/lib/python3.7/site-packages/pandas/core/generic.py\u001b[0m in \u001b[0;36m_drop_axis\u001b[0;34m(self, labels, axis, level, errors)\u001b[0m\n\u001b[1;32m   4183\u001b[0m                 \u001b[0mnew_axis\u001b[0m \u001b[0;34m=\u001b[0m \u001b[0maxis\u001b[0m\u001b[0;34m.\u001b[0m\u001b[0mdrop\u001b[0m\u001b[0;34m(\u001b[0m\u001b[0mlabels\u001b[0m\u001b[0;34m,\u001b[0m \u001b[0mlevel\u001b[0m\u001b[0;34m=\u001b[0m\u001b[0mlevel\u001b[0m\u001b[0;34m,\u001b[0m \u001b[0merrors\u001b[0m\u001b[0;34m=\u001b[0m\u001b[0merrors\u001b[0m\u001b[0;34m)\u001b[0m\u001b[0;34m\u001b[0m\u001b[0;34m\u001b[0m\u001b[0m\n\u001b[1;32m   4184\u001b[0m             \u001b[0;32melse\u001b[0m\u001b[0;34m:\u001b[0m\u001b[0;34m\u001b[0m\u001b[0;34m\u001b[0m\u001b[0m\n\u001b[0;32m-> 4185\u001b[0;31m                 \u001b[0mnew_axis\u001b[0m \u001b[0;34m=\u001b[0m \u001b[0maxis\u001b[0m\u001b[0;34m.\u001b[0m\u001b[0mdrop\u001b[0m\u001b[0;34m(\u001b[0m\u001b[0mlabels\u001b[0m\u001b[0;34m,\u001b[0m \u001b[0merrors\u001b[0m\u001b[0;34m=\u001b[0m\u001b[0merrors\u001b[0m\u001b[0;34m)\u001b[0m\u001b[0;34m\u001b[0m\u001b[0;34m\u001b[0m\u001b[0m\n\u001b[0m\u001b[1;32m   4186\u001b[0m             \u001b[0mresult\u001b[0m \u001b[0;34m=\u001b[0m \u001b[0mself\u001b[0m\u001b[0;34m.\u001b[0m\u001b[0mreindex\u001b[0m\u001b[0;34m(\u001b[0m\u001b[0;34m**\u001b[0m\u001b[0;34m{\u001b[0m\u001b[0maxis_name\u001b[0m\u001b[0;34m:\u001b[0m \u001b[0mnew_axis\u001b[0m\u001b[0;34m}\u001b[0m\u001b[0;34m)\u001b[0m\u001b[0;34m\u001b[0m\u001b[0;34m\u001b[0m\u001b[0m\n\u001b[1;32m   4187\u001b[0m \u001b[0;34m\u001b[0m\u001b[0m\n",
      "\u001b[0;32m~/anaconda3/lib/python3.7/site-packages/pandas/core/indexes/base.py\u001b[0m in \u001b[0;36mdrop\u001b[0;34m(self, labels, errors)\u001b[0m\n\u001b[1;32m   6015\u001b[0m         \u001b[0;32mif\u001b[0m \u001b[0mmask\u001b[0m\u001b[0;34m.\u001b[0m\u001b[0many\u001b[0m\u001b[0;34m(\u001b[0m\u001b[0;34m)\u001b[0m\u001b[0;34m:\u001b[0m\u001b[0;34m\u001b[0m\u001b[0;34m\u001b[0m\u001b[0m\n\u001b[1;32m   6016\u001b[0m             \u001b[0;32mif\u001b[0m \u001b[0merrors\u001b[0m \u001b[0;34m!=\u001b[0m \u001b[0;34m\"ignore\"\u001b[0m\u001b[0;34m:\u001b[0m\u001b[0;34m\u001b[0m\u001b[0;34m\u001b[0m\u001b[0m\n\u001b[0;32m-> 6017\u001b[0;31m                 \u001b[0;32mraise\u001b[0m \u001b[0mKeyError\u001b[0m\u001b[0;34m(\u001b[0m\u001b[0;34mf\"{labels[mask]} not found in axis\"\u001b[0m\u001b[0;34m)\u001b[0m\u001b[0;34m\u001b[0m\u001b[0;34m\u001b[0m\u001b[0m\n\u001b[0m\u001b[1;32m   6018\u001b[0m             \u001b[0mindexer\u001b[0m \u001b[0;34m=\u001b[0m \u001b[0mindexer\u001b[0m\u001b[0;34m[\u001b[0m\u001b[0;34m~\u001b[0m\u001b[0mmask\u001b[0m\u001b[0;34m]\u001b[0m\u001b[0;34m\u001b[0m\u001b[0;34m\u001b[0m\u001b[0m\n\u001b[1;32m   6019\u001b[0m         \u001b[0;32mreturn\u001b[0m \u001b[0mself\u001b[0m\u001b[0;34m.\u001b[0m\u001b[0mdelete\u001b[0m\u001b[0;34m(\u001b[0m\u001b[0mindexer\u001b[0m\u001b[0;34m)\u001b[0m\u001b[0;34m\u001b[0m\u001b[0;34m\u001b[0m\u001b[0m\n",
      "\u001b[0;31mKeyError\u001b[0m: \"['LoanID'] not found in axis\""
     ]
    }
   ],
   "source": [
    "df = df.drop(columns = ['LoanID'])"
   ]
  },
  {
   "cell_type": "markdown",
   "metadata": {},
   "source": [
    "# Train-Test Split & Model Selection"
   ]
  },
  {
   "cell_type": "markdown",
   "metadata": {},
   "source": [
    "Split the dataset into training and testing sets"
   ]
  },
  {
   "cell_type": "code",
   "execution_count": 20,
   "metadata": {},
   "outputs": [],
   "source": [
    "from sklearn.model_selection import train_test_split\n",
    "\n",
    "X = df.drop(columns =['Default']) # Features\n",
    "y = df['Default'] # Target variable\n",
    "\n",
    "X_train, X_test, y_train, y_test = train_test_split(X, y, test_size=0.2, random_state=42)"
   ]
  },
  {
   "cell_type": "markdown",
   "metadata": {},
   "source": [
    "```\n",
    "The code df.drop(columns=['Default']) removes the 'Default' column from your dataset. The remaining columns (like Income, Age, etc.) are the features. These are the pieces of information you will use to predict something.\n",
    "The code df['Default'] selects the 'Default' column from your dataset. This is the value you want to predict (for example, whether a borrower defaults on a loan).\n",
    "Splitting the dataset into features and target helps the model understand what inputs (features) should be used to predict the output (target)\n",
    "```\n"
   ]
  },
  {
   "cell_type": "markdown",
   "metadata": {},
   "source": [
    "```\n",
    "The train_test_split function divides your dataset into two sets:\n",
    "Training Set:\n",
    "X_train: Features used to train the model.\n",
    "y_train: The correct answers (targets) corresponding to these features.\n",
    "Testing Set:\n",
    "X_test: Features that the model hasn’t seen during training.\n",
    "y_test: The actual target values for these features, used later to check the model’s performance.\n",
    "Parameters:\n",
    "test_size=0.2:\n",
    "This means 20% of the data will be kept aside for testing, and the remaining 80% will be used for training.\n",
    "```"
   ]
  },
  {
   "cell_type": "markdown",
   "metadata": {},
   "source": [
    "# Model Training & Evaluation"
   ]
  },
  {
   "cell_type": "markdown",
   "metadata": {},
   "source": [
    "## Train a Logistic Regression Model\n",
    "```\n",
    "training and evaluating a Logistic Regression model using scikit-learn. \n",
    "It helps in binary classification problems, such as predicting whether a loan will be repaid or not (1 = Yes, 0 = No).\n",
    "```"
   ]
  },
  {
   "cell_type": "code",
   "execution_count": 23,
   "metadata": {},
   "outputs": [
    {
     "name": "stdout",
     "output_type": "stream",
     "text": [
      "Column 'LoanID' contains 'DRIRC89L0T'\n"
     ]
    }
   ],
   "source": [
    "for col in df.columns:\n",
    "    if df[col].dtype == 'object':  # Check only object-type columns\n",
    "        if df[col].str.contains(\"DRIRC89L0T\", na=False).any():\n",
    "            print(f\"Column '{col}' contains 'DRIRC89L0T'\")\n"
   ]
  },
  {
   "cell_type": "code",
   "execution_count": 24,
   "metadata": {},
   "outputs": [
    {
     "name": "stdout",
     "output_type": "stream",
     "text": [
      "            LoanID  Age    Income  LoanAmount  CreditScore  MonthsEmployed  \\\n",
      "137187  DRIRC89L0T   18  1.413566    1.151277     1.710067              26   \n",
      "\n",
      "        NumCreditLines  InterestRate  LoanTerm  DTIRatio  ... HasDependents  \\\n",
      "137187               2         10.47        60      0.81  ...            No   \n",
      "\n",
      "       HasCoSigner Default EmploymentType_Part-time  \\\n",
      "137187          No       0                        0   \n",
      "\n",
      "       EmploymentType_Self-employed  EmploymentType_Unemployed  \\\n",
      "137187                            1                          0   \n",
      "\n",
      "        LoanPurpose_Business  LoanPurpose_Education  LoanPurpose_Home  \\\n",
      "137187                     1                      0                 0   \n",
      "\n",
      "        LoanPurpose_Other  \n",
      "137187                  0  \n",
      "\n",
      "[1 rows x 23 columns]\n"
     ]
    }
   ],
   "source": [
    "# Show rows where the column 'LoanID' contains 'DRIRC89L0T'\n",
    "print(df[df['LoanID'] == \"DRIRC89L0T\"])\n"
   ]
  },
  {
   "cell_type": "code",
   "execution_count": 25,
   "metadata": {
    "scrolled": true
   },
   "outputs": [],
   "source": [
    "df = df.drop(columns = ['LoanID'])"
   ]
  },
  {
   "cell_type": "code",
   "execution_count": 26,
   "metadata": {},
   "outputs": [],
   "source": [
    "for col in df.columns:\n",
    "    if df[col].dtype == 'object':\n",
    "        if df[col].str.contains(\"DRIRC89L0T\", na=False).any():\n",
    "            print(f\"Column '{col}' contains 'DRIRC89L0T'\")\n"
   ]
  },
  {
   "cell_type": "code",
   "execution_count": 27,
   "metadata": {},
   "outputs": [
    {
     "name": "stdout",
     "output_type": "stream",
     "text": [
      "No 'DRIRC89L0T' found in the DataFrame.\n"
     ]
    }
   ],
   "source": [
    "result = df.applymap(lambda x: \"DRIRC89L0T\" in str(x))\n",
    "if result.any().any():\n",
    "    print(\"Found 'DRIRC89L0T' somewhere in the DataFrame.\")\n",
    "else:\n",
    "    print(\"No 'DRIRC89L0T' found in the DataFrame.\")\n"
   ]
  },
  {
   "cell_type": "code",
   "execution_count": 28,
   "metadata": {
    "scrolled": true
   },
   "outputs": [
    {
     "name": "stdout",
     "output_type": "stream",
     "text": [
      "LoanID                          False\n",
      "Age                             False\n",
      "Income                          False\n",
      "LoanAmount                      False\n",
      "CreditScore                     False\n",
      "MonthsEmployed                  False\n",
      "NumCreditLines                  False\n",
      "InterestRate                    False\n",
      "LoanTerm                        False\n",
      "DTIRatio                        False\n",
      "Education                       False\n",
      "MaritalStatus                   False\n",
      "HasMortgage                     False\n",
      "HasDependents                   False\n",
      "HasCoSigner                     False\n",
      "EmploymentType_Part-time        False\n",
      "EmploymentType_Self-employed    False\n",
      "EmploymentType_Unemployed       False\n",
      "LoanPurpose_Business            False\n",
      "LoanPurpose_Education           False\n",
      "LoanPurpose_Home                False\n",
      "LoanPurpose_Other               False\n",
      "dtype: bool\n",
      "LoanID                          False\n",
      "Age                             False\n",
      "Income                          False\n",
      "LoanAmount                      False\n",
      "CreditScore                     False\n",
      "MonthsEmployed                  False\n",
      "NumCreditLines                  False\n",
      "InterestRate                    False\n",
      "LoanTerm                        False\n",
      "DTIRatio                        False\n",
      "Education                       False\n",
      "MaritalStatus                   False\n",
      "HasMortgage                     False\n",
      "HasDependents                   False\n",
      "HasCoSigner                     False\n",
      "EmploymentType_Part-time        False\n",
      "EmploymentType_Self-employed    False\n",
      "EmploymentType_Unemployed       False\n",
      "LoanPurpose_Business            False\n",
      "LoanPurpose_Education           False\n",
      "LoanPurpose_Home                False\n",
      "LoanPurpose_Other               False\n",
      "dtype: bool\n"
     ]
    }
   ],
   "source": [
    "print(X_train.applymap(lambda x: \"DRIRC89L0T\" in str(x)).any())\n",
    "print(X_test.applymap(lambda x: \"DRIRC89L0T\" in str(x)).any())\n"
   ]
  },
  {
   "cell_type": "code",
   "execution_count": 29,
   "metadata": {},
   "outputs": [
    {
     "name": "stdout",
     "output_type": "stream",
     "text": [
      "LoanID                          float64\n",
      "Age                               int64\n",
      "Income                            int64\n",
      "LoanAmount                        int64\n",
      "CreditScore                       int64\n",
      "MonthsEmployed                    int64\n",
      "NumCreditLines                    int64\n",
      "InterestRate                    float64\n",
      "LoanTerm                          int64\n",
      "DTIRatio                        float64\n",
      "Education                       float64\n",
      "MaritalStatus                   float64\n",
      "HasMortgage                     float64\n",
      "HasDependents                   float64\n",
      "HasCoSigner                     float64\n",
      "EmploymentType_Part-time          uint8\n",
      "EmploymentType_Self-employed      uint8\n",
      "EmploymentType_Unemployed         uint8\n",
      "LoanPurpose_Business              uint8\n",
      "LoanPurpose_Education             uint8\n",
      "LoanPurpose_Home                  uint8\n",
      "LoanPurpose_Other                 uint8\n",
      "dtype: object\n",
      "LoanID                          float64\n",
      "Age                               int64\n",
      "Income                            int64\n",
      "LoanAmount                        int64\n",
      "CreditScore                       int64\n",
      "MonthsEmployed                    int64\n",
      "NumCreditLines                    int64\n",
      "InterestRate                    float64\n",
      "LoanTerm                          int64\n",
      "DTIRatio                        float64\n",
      "Education                       float64\n",
      "MaritalStatus                   float64\n",
      "HasMortgage                     float64\n",
      "HasDependents                   float64\n",
      "HasCoSigner                     float64\n",
      "EmploymentType_Part-time          uint8\n",
      "EmploymentType_Self-employed      uint8\n",
      "EmploymentType_Unemployed         uint8\n",
      "LoanPurpose_Business              uint8\n",
      "LoanPurpose_Education             uint8\n",
      "LoanPurpose_Home                  uint8\n",
      "LoanPurpose_Other                 uint8\n",
      "dtype: object\n"
     ]
    }
   ],
   "source": [
    "print(X_train.dtypes)\n",
    "print(X_test.dtypes)\n"
   ]
  },
  {
   "cell_type": "code",
   "execution_count": 30,
   "metadata": {},
   "outputs": [
    {
     "name": "stdout",
     "output_type": "stream",
     "text": [
      "Accuracy: 0.8851576267867632\n",
      "Classification Report:\n",
      "               precision    recall  f1-score   support\n",
      "\n",
      "           0       0.89      1.00      0.94     45170\n",
      "           1       0.63      0.01      0.03      5900\n",
      "\n",
      "    accuracy                           0.89     51070\n",
      "   macro avg       0.76      0.51      0.48     51070\n",
      "weighted avg       0.86      0.89      0.83     51070\n",
      "\n"
     ]
    },
    {
     "name": "stderr",
     "output_type": "stream",
     "text": [
      "/home/sara/anaconda3/lib/python3.7/site-packages/sklearn/linear_model/_logistic.py:940: ConvergenceWarning: lbfgs failed to converge (status=1):\n",
      "STOP: TOTAL NO. of ITERATIONS REACHED LIMIT.\n",
      "\n",
      "Increase the number of iterations (max_iter) or scale the data as shown in:\n",
      "    https://scikit-learn.org/stable/modules/preprocessing.html\n",
      "Please also refer to the documentation for alternative solver options:\n",
      "    https://scikit-learn.org/stable/modules/linear_model.html#logistic-regression\n",
      "  extra_warning_msg=_LOGISTIC_SOLVER_CONVERGENCE_MSG)\n"
     ]
    }
   ],
   "source": [
    "from sklearn.linear_model import LogisticRegression\n",
    "from sklearn.metrics import accuracy_score, classification_report\n",
    "\n",
    "# train model\n",
    "model = LogisticRegression()\n",
    "model.fit(X_train, y_train)\n",
    "\n",
    "# Predictions\n",
    "y_pred = model.predict(X_test)\n",
    "\n",
    "# Model Evaluation => Compares the model’s predictions (y_pred) with the actual values (y_test).\n",
    "# e.g. Accuracy: 0.87 => Means 87% of predictions were correct\n",
    "\n",
    "print('Accuracy:', accuracy_score(y_test, y_pred))\n",
    "print('Classification Report:\\n', classification_report(y_test, y_pred))"
   ]
  },
  {
   "cell_type": "markdown",
   "metadata": {},
   "source": [
    "```\n",
    "Precision: Out of all predicted positives (1s), how many were actually positive?\n",
    "Recall: Out of all actual positives (1s), how many were correctly predicted?\n",
    "F1-score: A balanced measure of precision and recall.\n",
    "Support: The number of actual instances of each class.\n",
    "```"
   ]
  },
  {
   "cell_type": "markdown",
   "metadata": {},
   "source": [
    "```\n",
    "Classification Report Breakdown:\n",
    "Class 0 (Non-default):\n",
    "Precision: 0.89\n",
    "Of all instances predicted as non-default, 89% were truly non-default.\n",
    "Recall: 0.98\n",
    "Of all actual non-default cases, 98% were correctly identified by the model.\n",
    "F1-Score: 0.93\n",
    "This combines precision and recall into a single metric. A score of 0.93 indicates very good performance for class 0.\n",
    "Support: 45,170\n",
    "There are 45,170 instances of class 0 in your test set.\n",
    "Class 1 (Default):\n",
    "Precision: 0.33\n",
    "Of all instances predicted as default, only 33% were actually defaults.\n",
    "Recall: 0.09\n",
    "Out of all actual default cases, the model only identified 9% correctly.\n",
    "F1-Score: 0.15\n",
    "This low score reflects that the model is performing very poorly on identifying defaults.\n",
    "Support: 5,900\n",
    "There are 5,900 instances of class 1 in your test set.\n",
    "Averages:\n",
    "Macro Average:\n",
    "This is the simple average of the metrics for both classes.\n",
    "Precision: 0.61, Recall: 0.53, F1-Score: 0.54\n",
    "This shows that when treating both classes equally, the overall performance is moderate.\n",
    "Weighted Average:\n",
    "This average takes into account the number of instances in each class.\n",
    "Precision: 0.83, Recall: 0.87, F1-Score: 0.84\n",
    "Since class 0 dominates the data, these averages look much better, but they don't fully reflect the poor performance on class 1.\n",
    "Interpretation:\n",
    "Imbalanced Performance:\n",
    "The model performs very well in predicting class 0 (non-default), which is the majority class.\n",
    "However, it struggles significantly with class 1 (default). The very low recall (0.09) for defaults means that the model misses 91% of actual defaults. This is a critical issue if predicting defaults is your main goal.\n",
    "\n",
    "In many applications (like credit risk assessment), correctly identifying defaults (the minority class) is very important.\n",
    "You might need to consider strategies to handle the imbalance, such as resampling (oversampling class 1 or undersampling class 0), using different evaluation metrics (e.g., AUC, F1-score for the minority class), or trying alternative algorithms designed for imbalanced data.\n",
    "```"
   ]
  },
  {
   "cell_type": "markdown",
   "metadata": {},
   "source": [
    "## Improve Performance with Random Forest"
   ]
  },
  {
   "cell_type": "code",
   "execution_count": 31,
   "metadata": {},
   "outputs": [
    {
     "name": "stdout",
     "output_type": "stream",
     "text": [
      "Random Forest Accuracy: 0.8844722929312708\n"
     ]
    }
   ],
   "source": [
    "from sklearn.ensemble import RandomForestClassifier\n",
    "\n",
    "# create the model with 100 decision trees. The idea is to build many small models (trees) and combine their results.\n",
    "rf_model = RandomForestClassifier(n_estimators=100, random_state=42)\n",
    "\n",
    "# Train (fit) the model on the training data\n",
    "rf_model.fit(X_train, y_train)\n",
    "\n",
    "# Make prediction on the test set\n",
    "y_pred_rf = rf_model.predict(X_test)\n",
    "\n",
    "# Evaluate how accurate the model is\n",
    "print('Random Forest Accuracy:', accuracy_score(y_test, y_pred_rf))"
   ]
  },
  {
   "cell_type": "markdown",
   "metadata": {},
   "source": [
    "Raandom Forest model: The model learns from the training data by creating multiple decision trees based on different random parts of the data."
   ]
  },
  {
   "cell_type": "markdown",
   "metadata": {},
   "source": [
    "# Hyperparameter Tuning & Optimization"
   ]
  },
  {
   "cell_type": "markdown",
   "metadata": {},
   "source": [
    "Fine-tune the Random Forest model using GridSearchCV"
   ]
  },
  {
   "cell_type": "code",
   "execution_count": 37,
   "metadata": {},
   "outputs": [
    {
     "data": {
      "text/plain": [
       "GridSearchCV(cv=5, error_score=nan,\n",
       "             estimator=RandomForestClassifier(bootstrap=True, ccp_alpha=0.0,\n",
       "                                              class_weight=None,\n",
       "                                              criterion='gini', max_depth=None,\n",
       "                                              max_features='auto',\n",
       "                                              max_leaf_nodes=None,\n",
       "                                              max_samples=None,\n",
       "                                              min_impurity_decrease=0.0,\n",
       "                                              min_impurity_split=None,\n",
       "                                              min_samples_leaf=1,\n",
       "                                              min_samples_split=2,\n",
       "                                              min_weight_fraction_leaf=0.0,\n",
       "                                              n_estimators=100, n_jobs=None,\n",
       "                                              oob_score=False,\n",
       "                                              random_state=None, verbose=0,\n",
       "                                              warm_start=False),\n",
       "             iid='deprecated', n_jobs=None,\n",
       "             param_grid={'max_depth': [10, 20, 30],\n",
       "                         'n_estimators': [50, 100, 150]},\n",
       "             pre_dispatch='2*n_jobs', refit=True, return_train_score=False,\n",
       "             scoring=None, verbose=0)"
      ]
     },
     "execution_count": 37,
     "metadata": {},
     "output_type": "execute_result"
    }
   ],
   "source": [
    "from sklearn.model_selection import GridSearchCV\n",
    "\n",
    "param_grid = {\n",
    "    \"n_estimators\": [50, 100, 150],\n",
    "    \"max_depth\": [10, 20, 30]\n",
    "}\n",
    "\n",
    "grid_search = GridSearchCV(RandomForestClassifier(), param_grid, cv=5)\n",
    "grid_search.fit(X_train, y_train)\n",
    "\n"
   ]
  },
  {
   "cell_type": "code",
   "execution_count": 38,
   "metadata": {},
   "outputs": [
    {
     "name": "stdout",
     "output_type": "stream",
     "text": [
      "Best Parameters: {'max_depth': 10, 'n_estimators': 50}\n"
     ]
    }
   ],
   "source": [
    "print(\"Best Parameters:\", grid_search.best_params_)"
   ]
  }
 ],
 "metadata": {
  "kernelspec": {
   "display_name": "Python 3",
   "language": "python",
   "name": "python3"
  },
  "language_info": {
   "codemirror_mode": {
    "name": "ipython",
    "version": 3
   },
   "file_extension": ".py",
   "mimetype": "text/x-python",
   "name": "python",
   "nbconvert_exporter": "python",
   "pygments_lexer": "ipython3",
   "version": "3.7.6"
  }
 },
 "nbformat": 4,
 "nbformat_minor": 4
}
